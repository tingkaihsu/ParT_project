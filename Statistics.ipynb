{
 "cells": [
  {
   "cell_type": "code",
   "execution_count": 1,
   "id": "7673705b",
   "metadata": {},
   "outputs": [],
   "source": [
    "from statistics import mean \n",
    "from statistics import variance\n",
    "from statistics import stdev\n",
    "from math import isnan\n",
    "#This file is designed for calculate the statistics parameters\n",
    "def Sta(filepath):\n",
    "    with open(filepath,'r') as file:\n",
    "        lines = file.readlines()\n",
    "    #go through the predictions\n",
    "    data = []\n",
    "    for line in lines:\n",
    "        data.append(float(line))\n",
    "    print('mean of data: ', mean(data))\n",
    "    print('standard deviation:', stdev(data))"
   ]
  },
  {
   "cell_type": "code",
   "execution_count": 2,
   "id": "38ef2e0a",
   "metadata": {},
   "outputs": [
    {
     "name": "stdout",
     "output_type": "stream",
     "text": [
      "mean of data:  5.279332767236224\n",
      "standard deviation: 8.995387166353224e-07\n"
     ]
    }
   ],
   "source": [
    "Sta('200pre_MEPoint.txt')"
   ]
  },
  {
   "cell_type": "raw",
   "id": "97c393e4",
   "metadata": {},
   "source": []
  }
 ],
 "metadata": {
  "kernelspec": {
   "display_name": "Python 3",
   "language": "python",
   "name": "python3"
  },
  "language_info": {
   "codemirror_mode": {
    "name": "ipython",
    "version": 3
   },
   "file_extension": ".py",
   "mimetype": "text/x-python",
   "name": "python",
   "nbconvert_exporter": "python",
   "pygments_lexer": "ipython3",
   "version": "3.5.5"
  }
 },
 "nbformat": 4,
 "nbformat_minor": 5
}
