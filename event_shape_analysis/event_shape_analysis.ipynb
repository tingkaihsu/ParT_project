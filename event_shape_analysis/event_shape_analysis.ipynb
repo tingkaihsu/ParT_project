{
 "cells": [
  {
   "cell_type": "code",
   "execution_count": 1,
   "id": "81e6c5be",
   "metadata": {},
   "outputs": [],
   "source": [
    "import numpy as np\n",
    "from mpl_toolkits import mplot3d\n",
    "import matplotlib.pyplot as plt\n",
    "import random"
   ]
  },
  {
   "cell_type": "code",
   "execution_count": null,
   "id": "e2c38a81",
   "metadata": {},
   "outputs": [],
   "source": [
    "def event_shape_analysis(filepath):\n",
    "    with open(filepath, 'r') as file:\n",
    "    lines = file.readlines()\n",
    "    # Vertex ID record the what vertex is currently\n",
    "    parent_vertex_id = 0\n",
    "    B_plus_final_states = []\n",
    "    B_minus_final_states = []\n",
    "    \n",
    "    B_plus_vertices = []\n",
    "    B_minus_vertices = []\n",
    "    \n",
    "    for line in lines:\n",
    "        # New event\n",
    "        if line.startswith('E'):\n",
    "            parent_vertex_id = 0\n",
    "        # New vertex\n",
    "        elif line.startswith('V'):\n",
    "            parent_vertex_id = parent_vertex_id + 1\n",
    "        # New particle\n",
    "        elif line.startswith('P'):\n",
    "            # Split the line \n",
    "            partcl_dt = line.split()\n",
    "            cur_partcl = (\n",
    "                    int(partcl_dt[2]),               # Particle ID (pdgid)\n",
    "                    np.float64(partcl_dt[3]),         # Momentum in x (px)\n",
    "                    np.float64(partcl_dt[4]),         # Momentum in y (py)\n",
    "                    np.float64(partcl_dt[5]),         # Momentum in z (pz)\n",
    "                    np.float64(partcl_dt[6]),         # Energy\n",
    "                    np.float64(partcl_dt[7]),         # Mass\n",
    "                    int(partcl_dt[11]),               # Child vertex\n",
    "                    parent_vertex_id                        # Current vertex ID\n",
    "            )\n",
    "            # Only record particles whose parent_vertex_id from B+ meson or B- meson\n",
    "            # and its child vertex = 0\n",
    "            child_vertex_id = int(partcl_dt[7])\n",
    "            pdgid = int(partcl_dt[2])\n",
    "            # First check whether it is B+ meson and B- meson\n",
    "            if pdgid == 521:\n",
    "                B_plus_vertices.append(child_vertex_id)\n",
    "            elif pdgid == -521:\n",
    "                B_minus_vertices.append(child_vertex_id)\n",
    "            else:\n",
    "                continue\n",
    "            \n",
    "            # If parent vertex from B+ meson decay, record the child vertex in B+ meson decay\n",
    "            # If null child vertex, then it is the final states\n",
    "            for i in len(B_plus_vertices):\n",
    "                if parent_vertex_id == B_plus_vertices[i] and not child_vertex_id == 0:\n",
    "                    B_plus_vertices.append( child_vertex_id )\n",
    "                elif parent_vertex_id == B_plus_vertices[i] and child_vertex_id == 0:\n",
    "                    B_plus_final_states.append(cur_partcl)\n",
    "                else:\n",
    "                    continue\n",
    "                    \n",
    "            for i in len(B_minus_vertices):\n",
    "                if parent_vertex_id == B_minus_vertices[i] and not child_vertex_id == 0:\n",
    "                    B_minus_vertex_id.append( child_vertex_id )\n",
    "                elif parent_vertex_id == B_minus_vertices[i] and child_vertex_id == 0:\n",
    "                    B_minus_final_states.append(cur_partcl)\n",
    "                else:\n",
    "                    continue"
   ]
  }
 ],
 "metadata": {
  "kernelspec": {
   "display_name": "Python 3",
   "language": "python",
   "name": "python3"
  },
  "language_info": {
   "codemirror_mode": {
    "name": "ipython",
    "version": 3
   },
   "file_extension": ".py",
   "mimetype": "text/x-python",
   "name": "python",
   "nbconvert_exporter": "python",
   "pygments_lexer": "ipython3",
   "version": "3.5.5"
  }
 },
 "nbformat": 4,
 "nbformat_minor": 5
}
